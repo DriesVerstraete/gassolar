{
 "cells": [
  {
   "cell_type": "code",
   "execution_count": null,
   "metadata": {
    "collapsed": false
   },
   "outputs": [],
   "source": [
    "from gas_hale_rebuild5 import GasPoweredHALE\n",
    "import gpkit\n",
    "gpkit.settings['latex_modelname'] = False\n",
    "\n",
    "# to modify the GasPoweredHALE model, edit gas_hale.py\n",
    "\n",
    "m = GasPoweredHALE()\n",
    "sol = m.solve()"
   ]
  },
  {
   "cell_type": "code",
   "execution_count": null,
   "metadata": {
    "collapsed": false
   },
   "outputs": [],
   "source": [
    "sol('W_{fuel}')/sol('W')"
   ]
  },
  {
   "cell_type": "code",
   "execution_count": null,
   "metadata": {
    "collapsed": false
   },
   "outputs": [],
   "source": [
    "import numpy as np\n",
    "m.substitutions.update({\"t\": ('sweep', np.linspace(4, 10, 7)),\n",
    "                        \"V_{wind}\": ('sweep', np.linspace(10, 30, 5))})\n",
    "sol = m.solve(solver=\"mosek\", verbosity=0, skipsweepfailures=True)"
   ]
  },
  {
   "cell_type": "code",
   "execution_count": null,
   "metadata": {
    "collapsed": false
   },
   "outputs": [],
   "source": [
    "%matplotlib inline\n",
    "from gpkit.interactive.plotting import contour_array\n",
    "_ = contour_array(m, \"V_{min}\", \"t\", [\"W\", \"S\"])"
   ]
  },
  {
   "cell_type": "code",
   "execution_count": null,
   "metadata": {
    "collapsed": true
   },
   "outputs": [],
   "source": [
    "m.substitutions.update"
   ]
  }
 ],
 "metadata": {
  "kernelspec": {
   "display_name": "Python 2",
   "language": "python",
   "name": "python2"
  },
  "language_info": {
   "codemirror_mode": {
    "name": "ipython",
    "version": 2
   },
   "file_extension": ".py",
   "mimetype": "text/x-python",
   "name": "python",
   "nbconvert_exporter": "python",
   "pygments_lexer": "ipython2",
   "version": "2.7.10"
  }
 },
 "nbformat": 4,
 "nbformat_minor": 0
}
