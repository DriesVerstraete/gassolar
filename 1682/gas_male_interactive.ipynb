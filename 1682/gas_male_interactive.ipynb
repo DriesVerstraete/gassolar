{
 "cells": [
  {
   "cell_type": "markdown",
   "metadata": {},
   "source": [
    "# Gas Powered (Medium Altitude Long Endurace) Aicraft\n",
    "\n",
    "This notebook is an interactive tool to understand the design space of a medium altitude long endurance aircraft."
   ]
  },
  {
   "cell_type": "markdown",
   "metadata": {},
   "source": [
    "Import necessary modules."
   ]
  },
  {
   "cell_type": "code",
   "execution_count": 115,
   "metadata": {
    "collapsed": true
   },
   "outputs": [],
   "source": [
    "from numpy import pi\n",
    "import matplotlib.pyplot as plt\n",
    "from gpkit import VectorVariable, Variable, Model, units\n",
    "from gpkit.tools import te_exp_minus1\n",
    "from gpkit import LinkedConstraintSet\n",
    "from gpkit.constraints.set import ConstraintSet\n",
    "import gpkit\n",
    "import numpy as np\n",
    "gpkit.settings['latex_modelname'] = False"
   ]
  },
  {
   "cell_type": "markdown",
   "metadata": {},
   "source": [
    "## Define system level variables"
   ]
  },
  {
   "cell_type": "code",
   "execution_count": 150,
   "metadata": {
    "collapsed": true
   },
   "outputs": [],
   "source": [
    "# define number of segments\n",
    "NSeg = 9 # number of flight segments\n",
    "NCruise = 2 # number of cruise segments\n",
    "NClimb = 2 # number of climb segments\n",
    "NLoiter = NSeg - NCruise - NClimb # number of loiter segments\n",
    "iCruise = [1, -1] # cuise index\n",
    "iLoiter = [3] # loiter index\n",
    "for i in range(4, NSeg-1): iLoiter.append(i)\n",
    "iClimb = [0, 2] # climb index\n",
    "\n",
    "\n",
    "g = Variable('g', 9.81, 'm/s^2', 'Gravitational acceleration')\n",
    "T_sl = Variable('T_{sl}', 288.15, 'K', 'Temperature at sea level')\n",
    "L_atm = Variable('L_{atm}', 0.0065, 'K/m', 'Temperature lapse rate')\n",
    "T_atm = VectorVariable(NSeg, 'T_{atm}', [T_sl.value - L_atm.value*v.value for v in h], 'K', 'Air temperature')\n",
    "p_sl = Variable('p_{sl}', 101325, 'Pa', 'Pressure at sea level')\n",
    "R_spec = Variable('R_{spec}', 287.058, 'J/kg/K', 'Specific gas constant of air')\n",
    "rho = VectorVariable(NSeg, r'\\rho', [p_sl.value*x.value**(5.257-1)/R_spec.value/(T_sl.value**5.257) for x in T_atm], \n",
    "                    'kg/m^3', 'air density')\n",
    "t_station = Variable('t_{station}', 'days', 'time on station')"
   ]
  },
  {
   "cell_type": "markdown",
   "metadata": {},
   "source": [
    "## Altitude Model\n",
    "\n",
    "Assumed that the loiter and cruise altitudes are constant and that the climb rate has to be at least 100 ft/min."
   ]
  },
  {
   "cell_type": "code",
   "execution_count": 120,
   "metadata": {
    "collapsed": true
   },
   "outputs": [],
   "source": [
    "class Altitude(ConstraintSet):\n",
    "    def __init__(self, **kwargs):\n",
    "        h_dotmin = Variable('h_{dot-min}', 100, 'ft/min', 'minimum necessary climb rate')\n",
    "        h_station = Variable('h_{station}', 15000, 'ft', 'minimum altitude at station')\n",
    "        h_cruise = Variable('h_{cruise}', 5000, 'ft', 'minimum cruise altitude')\n",
    "        h = VectorVariable(NSeg, 'h', \n",
    "                [h_cruise.value,h_cruise.value,h_station.value,h_station.value,h_station.value,\n",
    "                 h_station.value,h_station.value,h_station.value,h_cruise.value], 'ft', 'altitude')\n",
    "        deltah = Variable(r'\\delta_h', h_station.value-h_cruise.value, 'ft', 'delta height') \n",
    "        t = VectorVariable(NSeg, 't', 'days', 'time per flight segment')\n",
    "        h_dot = VectorVariable(NClimb, 'h_{dot}', 'ft/min', 'Climb rate')\n",
    "        \n",
    "        constraints = [t[iClimb[0]]*h_dot[0] >= h_cruise, \n",
    "                       t[iClimb[1]]*h_dot[1] >= deltah,\n",
    "                       h_dot >= h_dotmin]\n",
    "        \n",
    "        ConstraintSet.__init__(self, constraints, **kwargs)\n",
    "        "
   ]
  },
  {
   "cell_type": "markdown",
   "metadata": {},
   "source": [
    "## Atmospheric Model\n",
    "\n",
    "This is only valid up to 7km.   Assumes that density decreases with altitude."
   ]
  },
  {
   "cell_type": "code",
   "execution_count": 121,
   "metadata": {
    "collapsed": true
   },
   "outputs": [],
   "source": [
    "class Atmosphere(ConstraintSet):\n",
    "    def __init__(self, **kwargs):\n",
    "        mu_sl = Variable(r'\\mu_{sl}', 1.789*10**-5, 'N*s/m^2','Dynamic viscosity at sea level')\n",
    "        h_ref = Variable('h_{ref}', 15000, 'ft', 'ref altitude')\n",
    "        mu_atm = VectorVariable(NSeg,r'\\mu', 'N*s/m^2', 'Dynamic viscosity')\n",
    "        h_station = Variable('h_{station}', 15000, 'ft', 'minimum altitude at station')\n",
    "        h_cruise = Variable('h_{cruise}', 5000, 'ft', 'minimum cruise altitude')\n",
    "        h = VectorVariable(NSeg, 'h', \n",
    "                [h_cruise.value,h_cruise.value,h_station.value,h_station.value,h_station.value,\n",
    "                 h_station.value,h_station.value,h_station.value,h_cruise.value], 'ft', 'altitude')\n",
    "        \n",
    "        # Atmospheric variation with altitude (valid from 0-7km of altitude)\n",
    "        constraints = [#(rho/rho_sl)**0.1 == 0.954*(h/h_ref)**(-0.0284),\n",
    "                      #(T_atm/T_sl)**0.1 == 0.989*(h/h_ref)**(-0.00666),\n",
    "                      (mu_atm/mu_sl)**0.1 == 0.991*(h/h_ref)**(-0.00529)]\n",
    "        \n",
    "        ConstraintSet.__init__(self, constraints, **kwargs)"
   ]
  },
  {
   "cell_type": "markdown",
   "metadata": {},
   "source": [
    "## Fuel Weight Model\n",
    "\n",
    "Assumes that the at the eng of each flight segment the weight ($W_{end}$) must be the weight it was at the beginning of the segment ($W_{begin}$) minus the amount of fuel that it spent ($W_{fuel}$). "
   ]
  },
  {
   "cell_type": "code",
   "execution_count": 122,
   "metadata": {
    "collapsed": false
   },
   "outputs": [],
   "source": [
    "class FuelWeight(ConstraintSet):\n",
    "    def __init__(self, **kwargs):\n",
    "        \n",
    "        MTOW = Variable('MTOW', 143, 'lbf', 'max take off weight')\n",
    "        W_end = VectorVariable(NSeg, 'W_{end}', 'lbf', 'segment-end weight')\n",
    "        W_fuel = VectorVariable(NSeg, 'W_{fuel}', 'lbf', 'segment-fuel weight')\n",
    "        W_zfw = Variable('W_{zfw}', 'lbf', 'Zero fuel weight')\n",
    "        W_begin = W_end.left # define beginning of segment weight\n",
    "        W_begin[0] = MTOW\n",
    "        \n",
    "        constraints = [MTOW >= W_end[0] + W_fuel[0], \n",
    "                       W_end[:-1] >= W_end[1:] + W_fuel[1:], \n",
    "                       W_end[-1] >= W_zfw]\n",
    "        \n",
    "        ConstraintSet.__init__(self, constraints, **kwargs)"
   ]
  },
  {
   "cell_type": "markdown",
   "metadata": {},
   "source": [
    "## Steady Level Flight Condition\n",
    "\n",
    "Assumes that the aircraft is always flying under a steady level flight condition.  When the aircraft is climbing, the thrust, and therefore the power, is constrained to account for additional thrust/power needed to climb at the specified rate.  Also assumes different propulsive efficiency for each leg of the flight."
   ]
  },
  {
   "cell_type": "code",
   "execution_count": 123,
   "metadata": {
    "collapsed": true
   },
   "outputs": [],
   "source": [
    "class SteadyLevelFlight(ConstraintSet):\n",
    "    def __init__(self, **kwargs):\n",
    "\n",
    "        CD = VectorVariable(NSeg, 'C_D', '-', 'Drag coefficient')\n",
    "        CL = VectorVariable(NSeg, 'C_L', '-', 'Lift coefficient')\n",
    "        V = VectorVariable(NSeg, 'V', 'm/s', 'cruise speed')\n",
    "        S = Variable('S', 'ft^2', 'wing area')\n",
    "        W_end = VectorVariable(NSeg, 'W_{end}', 'lbf', 'segment-end weight')\n",
    "        W_begin = W_end.left # define beginning of segment weight\n",
    "        P_shaft = VectorVariable(NSeg, 'P_{shaft}', 'hp', 'Shaft power')\n",
    "        eta_prop = VectorVariable(NSeg, r'\\eta_{prop}', '-', 'propulsive efficiency')\n",
    "        eta_propCruise = Variable(r'\\eta_{prop-cruise}',0.6,'-','propulsive efficiency in cruise')\n",
    "        eta_propClimb = Variable(r'\\eta_{prop-climb}',0.5,'-','propulsive efficiency in climb')\n",
    "        eta_propLoiter = Variable(r'\\eta_{prop-loiter}',0.7,'-','propulsive efficiency in loiter')\n",
    "        T = VectorVariable(NSeg, 'T', 'lbf', 'Thrust')\n",
    "        MTOW = Variable('MTOW', 143, 'lbf', 'max take off weight')\n",
    "        W_begin[0] = MTOW\n",
    "        \n",
    "        constraints = [P_shaft == T*V/eta_prop, \n",
    "                       T >= 0.5*rho*V**2*CD*S, \n",
    "                       T[iClimb] >= 0.5*rho[iClimb]*V[iClimb]**2*CD[iClimb]*S + \n",
    "                                    W_begin[iClimb]*h_dot/V[iClimb], \n",
    "                       0.5*rho*CL*S*V**2 == (W_end*W_begin)**0.5,\n",
    "                       eta_prop[iLoiter] == eta_propLoiter,\n",
    "                       eta_prop[iCruise] == eta_propCruise,\n",
    "                       eta_prop[iClimb] == eta_propClimb]\n",
    "        \n",
    "        ConstraintSet.__init__(self, constraints, **kwargs)"
   ]
  },
  {
   "cell_type": "markdown",
   "metadata": {},
   "source": [
    "## Engine Model (DF35)\n",
    "\n",
    "This engine model assumes that the engine is small.  The sizing to power curve is based off a sample of small engines that are two-stroke, four-stroke, and turboprop.  The engine accessory weight curve comes from Raymer.  The BSFC curves come from the manufacturing test data of the DF35 engine.  The avionics power comes from an estimate for basic avionics plus payload power consumption. "
   ]
  },
  {
   "cell_type": "code",
   "execution_count": 125,
   "metadata": {
    "collapsed": true
   },
   "outputs": [],
   "source": [
    "class Engine(ConstraintSet):\n",
    "    def __init__(self, **kwargs):\n",
    "        \n",
    "        W_engtot = Variable('W_{eng-tot}', 'lbf', 'Installed engine weight')\n",
    "        BSFC = VectorVariable(NSeg, 'BSFC', 'lb/hr/hp', 'brake specific fuel consumption')\n",
    "        P_shafttot = VectorVariable(NSeg, 'P_{shaft-tot}', 'hp', 'total power need including power draw from avionics')\n",
    "        W_eng = Variable('W_{eng}', 'lbf', 'engine weight')\n",
    "        W_engref = Variable('W_{eng-ref}', 4.4107, 'lbf', 'Reference engine weight')\n",
    "        P_shaftref = Variable('P_{shaft-ref}', 2.295, 'hp', 'reference shaft power')\n",
    "        BSFC_min = Variable('BSFC_{min}', 0.32, 'kg/kW/hr', 'Minimum BSFC')\n",
    "        BSFC = VectorVariable(NSeg, 'BSFC', 'lb/hr/hp', 'brake specific fuel consumption') \n",
    "        RPM_max = Variable('RPM_{max}', 9000, 'rpm', 'Maximum RPM')\n",
    "        RPM = VectorVariable(NSeg, 'RPM', 'rpm', 'Engine operating RPM')\n",
    "        P_shaftmax = VectorVariable(NSeg, 'P_{shaft-max}', 'hp', \n",
    "                                    'Max shaft power at altitude')\n",
    "        P_shaftmaxMSL = Variable('P_{shaft-maxMSL}', 'hp', 'Max shaft power at MSL')\n",
    "        Lfactor = VectorVariable(NSeg, 'L_factor', '-', 'Max shaft power loss factor')\n",
    "        P_avn = VectorVariable(NSeg, 'P_{avn}', [40,40,40,50,50,50,50,50,40], 'watts', 'avionics power')\n",
    "\n",
    "        # Engine Weight Constraints\n",
    "        constraints = [Lfactor == 0.906**(1/0.15)*(h/h_ref)**0.92, \n",
    "                       P_shaftmax/P_shaftmaxMSL + Lfactor <= 1, \n",
    "                       W_eng/W_engref >= 0.5538*(P_shaftmaxMSL/P_shaftref)**1.075, \n",
    "                       W_engtot >= 2.572*W_eng**0.922*units('lbf')**0.078,\n",
    "                       P_shaftmax >= P_shafttot, \n",
    "                       P_shafttot >= P_shaft + P_avn*1.25,\n",
    "                       (BSFC/BSFC_min)**0.129 >= 2*.486*(RPM/RPM_max)**-0.141 + \\\n",
    "                                                 0.0268*(RPM/RPM_max)**9.62, \n",
    "                       (P_shafttot/P_shaftmax)**0.1 == 0.999*(RPM/RPM_max)**0.292, \n",
    "                       RPM <= RPM_max, \n",
    "                       P_shaftmax[iCruise] >= P_shaftmaxMSL*.81,\n",
    "                       P_shaftmax[iClimb[0]] >= P_shaftmaxMSL*.81,\n",
    "                       P_shaftmax[iClimb[1]] >= P_shaftmaxMSL*0.481,\n",
    "                       P_shaftmax[iLoiter] >= P_shaftmaxMSL*0.481\n",
    "                       ]\n",
    "        \n",
    "        ConstraintSet.__init__(self, constraints, **kwargs)"
   ]
  },
  {
   "cell_type": "markdown",
   "metadata": {},
   "source": [
    "## Breguet Range Model\n",
    "\n",
    "This form of the Breguet Range assumes constant BSFC during each seperate leg of the flight.  A conseravtive estimate of $L/D$ ratio is used in the calculation.  The fuel oil fraction is assumed to be 0.98%.  Additionally, the time it takes to get out to station must be less than 1 day. "
   ]
  },
  {
   "cell_type": "code",
   "execution_count": 126,
   "metadata": {
    "collapsed": false
   },
   "outputs": [],
   "source": [
    "class BreguetRange(ConstraintSet):\n",
    "    def __init__(self, **kwargs):\n",
    "        z_bre = VectorVariable(NSeg, 'z_{bre}', '-', 'breguet coefficient')\n",
    "        BSFC = VectorVariable(NSeg, 'BSFC', 'lb/hr/hp', 'brake specific fuel consumption')\n",
    "        P_shafttot = VectorVariable(NSeg, 'P_{shaft-tot}', 'hp', 'total power need including power draw from avionics')\n",
    "        t_cruise = Variable('t_{cruise}', 1, 'days', 'time to station')\n",
    "        R = Variable('R', 200, 'nautical_miles', 'range to station')\n",
    "        R_cruise = Variable('R_{cruise}',180,'nautical_miles','range to station during climb')\n",
    "        FuelOilFrac = Variable('FuelOilFrac',.98,'-','Fuel-oil fraction')\n",
    "        W_end = VectorVariable(NSeg, 'W_{end}', 'lbf', 'segment-end weight')\n",
    "        W_fuel = VectorVariable(NSeg, 'W_{fuel}', 'lbf', 'segment-fuel weight')\n",
    "        t_station = Variable('t_{station}', 'days', 'time on station')\n",
    "        t = VectorVariable(NSeg, 't', 'days', 'time per flight segment')\n",
    "\n",
    "        constraints = [z_bre >= P_shafttot*t*BSFC*g/W_end,\n",
    "                       R_cruise <= V[iCruise[0]]*t[iCruise[0]], \n",
    "                       R <= V[iCruise[1]]*t[iCruise[1]], \n",
    "                       t[iLoiter] >= t_station/NLoiter, \n",
    "                       sum(t[[0,1,2]]) <= t_cruise, \n",
    "                       FuelOilFrac*W_fuel/W_end >= te_exp_minus1(z_bre, 3)]\n",
    "        \n",
    "        ConstraintSet.__init__(self, constraints, **kwargs)"
   ]
  },
  {
   "cell_type": "markdown",
   "metadata": {},
   "source": [
    "## Aerodynamic Model\n",
    "\n",
    "This model assumes that the drag comes from a fuselage drag (based off of skin friction drag estimate), wing profile drag (curve taken from .... airfoil using XFOIL), and induced drag.  "
   ]
  },
  {
   "cell_type": "code",
   "execution_count": 127,
   "metadata": {
    "collapsed": true
   },
   "outputs": [],
   "source": [
    "class Aerodynamic(ConstraintSet):\n",
    "    def __init__(self, **kwargs):\n",
    "        \n",
    "        CLmax = Variable('C_{L-max}', 1.5, '-', 'Maximum lift coefficient')\n",
    "        e = Variable('e', 0.9, '-', 'Spanwise efficiency')\n",
    "        CD = VectorVariable(NSeg, 'C_D', '-', 'Drag coefficient')\n",
    "        CL = VectorVariable(NSeg, 'C_L', '-', 'Lift coefficient')\n",
    "        Re = VectorVariable(NSeg, 'Re', '-', 'Reynolds number')\n",
    "        S = Variable('S', 'ft^2', 'wing area')\n",
    "\n",
    "        # fuselage drag \n",
    "        Kfuse = Variable('K_{fuse}', 1.1, '-', 'Fuselage form factor')\n",
    "        Cffuse = VectorVariable(NSeg, 'C_{f-fuse}', '-', 'Fuselage skin friction coefficient')\n",
    "        CDfuse = Variable('C_{D-fuse}', '-', 'fueslage drag')\n",
    "        AR = Variable('AR', '-', 'Aspect ratio')\n",
    "        b = Variable('b', 'ft', 'Span')\n",
    "        S_fuse = Variable('S_{fuse}', 'ft^2', 'Fuselage surface area')\n",
    "        l_fuse = Variable('l_{fuse}', 'ft', 'fuselage length')\n",
    "        l_cent = Variable('l_{cent}', 'ft', 'center fuselage length')\n",
    "        \n",
    "        Refuse = VectorVariable(NSeg, 'Re_{fuse}', '-', 'fuselage Reynolds number')\n",
    "        Re_ref = Variable(\"Re_{ref}\", 3e5, \"-\", \"Reference Re for cdp\")\n",
    "        cdp = VectorVariable(NSeg, \"c_{dp}\", \"-\", \"wing profile drag coeff\")\n",
    "\n",
    "        constraints = [\n",
    "            CD >= (CDfuse + cdp + CL**2/(pi*e*AR))*1.3,\n",
    "            cdp >= ((0.006 + 0.005*CL**2 + 0.00012*CL**10)*(Re/Re_ref)**-0.3),\n",
    "            b**2 == S*AR, \n",
    "            CL <= CLmax, \n",
    "            Re == rho*V/mu_atm*(S/AR)**0.5, \n",
    "            CDfuse >= Kfuse*S_fuse*Cffuse/S, \n",
    "            Refuse == rho*V/mu_atm*l_fuse, \n",
    "            Cffuse >= 0.455/Refuse**0.3, \n",
    "            ]\n",
    "        \n",
    "        ConstraintSet.__init__(self, constraints, **kwargs)"
   ]
  },
  {
   "cell_type": "markdown",
   "metadata": {},
   "source": [
    "## Weight Model\n",
    "\n",
    "This assumes that the payload weight, $W_{payload} = 10 [lbs]$, and that the avionics is $W_{avionics} = 8 [lbs]$.  It also makes some assumptions about the tail, skid, and fuselage rib weight that are only valid for small airplanes.  "
   ]
  },
  {
   "cell_type": "code",
   "execution_count": 140,
   "metadata": {
    "collapsed": true
   },
   "outputs": [],
   "source": [
    "class Weight(ConstraintSet):\n",
    "    def __init__(self, **kwargs):\n",
    "        \n",
    "        # Payload model\n",
    "        W_pay = Variable('W_{pay}', 10, 'lbf', 'Payload weight')\n",
    "\n",
    "        # Avionics model\n",
    "        W_avionics = Variable('W_{avionics}', 8, 'lbf', 'Avionics weight')\n",
    "        W_engtot = Variable('W_{eng-tot}', 'lbf', 'Installed engine weight')\n",
    "        W_cent = Variable('W_{cent}', 'lbf', 'Center aircraft weight')\n",
    "        m_fuse = Variable('m_{fuse}', 'kg', 'fuselage mass')\n",
    "        m_cap = Variable('m_{cap}', 'kg', 'Cap mass')\n",
    "        m_skin = Variable('m_{skin}', 'kg', 'Skin mass')\n",
    "\n",
    "        # Weight breakdown\n",
    "        W_fuse = Variable('W_{fuse}', 'lbf', 'fuselage weight') \n",
    "        W_wing = Variable('W_{wing}', 'lbf', 'Total wing structural weight')\n",
    "        W_fueltot = Variable('W_{fuel-tot}', 'lbf', 'total fuel weight')\n",
    "        W_skid = Variable('W_{skid}', 3, 'lbf', 'skid weight')\n",
    "        m_tail = Variable('m_{tail}', 1*1.5, 'kg', 'tail mass')\n",
    "        m_rib = Variable('m_{rib}', 1.2*1.5, 'kg','rib mass')\n",
    "        W_fuel = VectorVariable(NSeg, 'W_{fuel}', 'lbf', 'segment-fuel weight')\n",
    "\n",
    "        constraints = [W_wing >= m_skin*g + 1.2*m_cap*g, \n",
    "                       W_fuse >= m_fuse*g + m_rib*g, \n",
    "                       W_fueltot >= W_fuel.sum(),\n",
    "                       W_cent >= W_fueltot + W_pay + W_engtot + W_fuse + W_avionics + W_skid, \n",
    "                       W_zfw >= W_pay + W_engtot + W_fuse + W_wing + m_tail*g +\n",
    "                                W_avionics + W_skid]\n",
    "        \n",
    "        ConstraintSet.__init__(self, constraints, **kwargs)"
   ]
  },
  {
   "cell_type": "markdown",
   "metadata": {},
   "source": [
    "## Structural Model\n",
    "\n",
    "Assumes the wing is a simple beam.  Skin and cap densities are based off of composite properties.  Designed to withhold a 5g force.  The max tip deflection is constrained to be less than 20%"
   ]
  },
  {
   "cell_type": "code",
   "execution_count": 145,
   "metadata": {
    "collapsed": true
   },
   "outputs": [],
   "source": [
    "class Structures(ConstraintSet):\n",
    "    def __init__(self, **kwargs):\n",
    "\n",
    "        W_cent = Variable('W_{cent}', 'lbf', 'Center aircraft weight')\n",
    "        m_fuse = Variable('m_{fuse}', 'kg', 'fuselage mass')\n",
    "        m_cap = Variable('m_{cap}', 'kg', 'Cap mass')\n",
    "        m_skin = Variable('m_{skin}', 'kg', 'Skin mass')\n",
    "        rho_skin = Variable(r'\\rho_{skin}', 0.1, 'g/cm^2', 'Wing Skin Density') \n",
    "        \n",
    "        # Structural parameters\n",
    "        rho_cap = Variable(r'\\rho_{cap}', 1.76, 'g/cm^3', 'Density of CF cap')\n",
    "        E_cap = Variable('E_{cap}', 2e7, 'psi', 'Youngs modulus of CF cap')\n",
    "        sigma_cap = Variable(r'\\sigma_{cap}', 475e6, 'Pa', 'Cap stress') \n",
    "        \n",
    "        # Structural lengths\n",
    "        h_spar = Variable('h_{spar}', 'm', 'Spar height') \n",
    "        t_cap = Variable('t_{cap}', 0.028, 'in', 'Spar cap thickness') \n",
    "        #arbitrarily placed based on available cf\n",
    "        w_cap = Variable('w_{cap}', 'in', 'Spar cap width')\n",
    "        c = Variable('c', 'ft', 'Wing chord') #assumes straight, untapered wing\n",
    "\n",
    "        # Structural ratios\n",
    "        tau = Variable(r'\\tau', 0.12, '-', 'Airfoil thickness ratio') \n",
    "        LoverA = Variable('LoverA', 'lbf/ft^2', 'Wing loading')\n",
    "        lambda_c = Variable(r'\\lambda_c', '-', 'Taper ratio')\n",
    "\n",
    "        # Structural areas\n",
    "        A_capcent = Variable('A_{capcent}', 'm**2', 'Cap area at center')\n",
    "        A_cap = Variable('A_{cap}', 'm**2', 'Cap area') #currently assumes constant area\n",
    "\n",
    "        # Structural volumes\n",
    "        Vol_cap = Variable('Vol_{cap}', 'm**3', 'Cap volume')\n",
    "\n",
    "        # Structural evaluation parameters\n",
    "        M_cent = Variable('M_cent', 'N*m', 'Center bending moment')\n",
    "        F = Variable('F', 'N', 'Load on wings')\n",
    "        SL = Variable('SL', 'Pa', 'Shear load') \n",
    "        N_Max = Variable('N_{Max}', 5, '-', 'Load factor') \n",
    "        #load rating for max number of g's\n",
    "        P_cap = Variable('P_{cap}', 'N', 'Cap load')\n",
    "        delta_tip = Variable(r'\\delta_{tip}', 'ft', 'Tip deflection') \n",
    "        delta_tip_max = Variable(r'\\delta_{tip-max}', 0.2, '-',\n",
    "                                 'max tip deflection ratio') \n",
    "\n",
    "        constraints = [m_skin >= rho_skin*S*2, \n",
    "                            F >= W_cent*N_Max, \n",
    "                            c == S/b, \n",
    "                            M_cent >= b*F/8, \n",
    "                            P_cap >= M_cent/h_spar, \n",
    "                            A_capcent >= P_cap/sigma_cap, \n",
    "                            Vol_cap >= A_capcent*b/3, \n",
    "                            m_cap == rho_cap*Vol_cap, \n",
    "                            h_spar <= tau*c, \n",
    "                            w_cap == A_capcent/t_cap, \n",
    "                            LoverA == MTOW/S, \n",
    "                            delta_tip == b**2*sigma_cap/(4*E_cap*h_spar), \n",
    "                            delta_tip/b <= delta_tip_max]\n",
    "        \n",
    "        ConstraintSet.__init__(self, constraints, **kwargs)"
   ]
  },
  {
   "cell_type": "markdown",
   "metadata": {},
   "source": [
    "## Fuselage Model\n",
    "\n",
    "Assuming that all of the fuel will be in the fuselage and that the fuselage must have the volume capacity for the fuel, avionics, and payload.  The assumed finness ratio is 3.5. "
   ]
  },
  {
   "cell_type": "code",
   "execution_count": 146,
   "metadata": {
    "collapsed": true
   },
   "outputs": [],
   "source": [
    "class Fuselage(ConstraintSet):\n",
    "    def __init__(self, **kwargs):\n",
    "        \n",
    "        # Constants\n",
    "        rho_fuel = Variable(r'\\rho_{fuel}', 6.01, 'lbf/gallon', 'density of 100LL')\n",
    "        m_fuse = Variable('m_{fuse}', 'kg', 'fuselage mass')\n",
    "        rho_skin = Variable(r'\\rho_{skin}', 0.1, 'g/cm^2', 'Wing Skin Density') \n",
    "\n",
    "        # Non-dimensional variables\n",
    "        k1fuse = Variable('k_{1-fuse}', 2.858, '-', 'fuselage form factor 1')\n",
    "        k2fuse = Variable('k-{2-fuse}', 5.938, '-', 'fuselage form factor 2')\n",
    "        w_cent = Variable('w_{cent}', 'ft', 'center fuselage width')\n",
    "        fr = Variable('fr', 3.5, '-', 'fineness ratio fuselage')\n",
    "\n",
    "        # Volumes\n",
    "        Vol_fuel = Variable('Vol_{fuel}', 'm**3', 'Fuel Volume')\n",
    "        Vol_fuse = Variable('Vol_{fuse}', 'm**3', 'fuselage volume')\n",
    "        Vol_pay = Variable('Vol_{pay}', 1, 'ft^3', 'payload volume')\n",
    "        Vol_avionics = Variable('Vol_{avionics}', 0.125, 'ft^3', 'avionics volume')\n",
    "\n",
    "        constraints = [m_fuse >= S_fuse*rho_skin, \n",
    "                       l_cent == fr*w_cent,\n",
    "                       l_fuse >= l_cent*1.1,\n",
    "                       (l_fuse/k1fuse)**3 == Vol_fuse, \n",
    "                       (S_fuse/k2fuse)**3 == Vol_fuse**2, \n",
    "                       Vol_fuse >= l_cent*w_cent**2,\n",
    "                       Vol_fuel >= W_fuel.sum()/rho_fuel, \n",
    "                       l_cent*w_cent**2 >= Vol_fuel+Vol_avionics+Vol_pay]\n",
    "        \n",
    "        ConstraintSet.__init__(self, constraints, **kwargs)"
   ]
  },
  {
   "cell_type": "markdown",
   "metadata": {},
   "source": [
    "## Wind Speed Model\n",
    "\n",
    "Assumes that the wind varys linearly with altitude.  This is for the 90% case.  Only valid up to ~28,000 ft."
   ]
  },
  {
   "cell_type": "code",
   "execution_count": 147,
   "metadata": {
    "collapsed": true
   },
   "outputs": [],
   "source": [
    "class Wind(ConstraintSet):\n",
    "    def __init__(self, **kwargs):\n",
    "\n",
    "        V_wind = VectorVariable(2, 'V_{wind}', 'm/s', 'wind speed')\n",
    "        V = VectorVariable(NSeg, 'V', 'm/s', 'cruise speed')\n",
    "\n",
    "        wd_cnst = Variable('wd_{cnst}', 0.001077, 'm/s/ft', \n",
    "                           'wind speed constant predicted by model')\n",
    "                            #0.002 is worst case, 0.0015 is mean at 45d\n",
    "        wd_ln = Variable('wd_{ln}', 8.845, 'm/s',\n",
    "                         'linear wind speed variable')\n",
    "                       #13.009 is worst case, 8.845 is mean at 45deg\n",
    "\n",
    "        constraints = [V_wind[0] >= wd_cnst*h[iLoiter] + wd_ln,\n",
    "                       V_wind[1] >= wd_cnst*h[iCruise] + wd_ln,\n",
    "                       V[iLoiter] >= V_wind[0],\n",
    "                       V[iCruise] >= V_wind[1]]\n",
    "        \n",
    "        ConstraintSet.__init__(self, constraints, **kwargs)"
   ]
  },
  {
   "cell_type": "markdown",
   "metadata": {},
   "source": [
    "## Modular Class\n",
    "\n",
    "This class combines all other class and sets the objective function."
   ]
  },
  {
   "cell_type": "code",
   "execution_count": 151,
   "metadata": {
    "collapsed": false
   },
   "outputs": [
    {
     "name": "stdout",
     "output_type": "stream",
     "text": [
      "Using solver 'cvxopt'\n",
      "Solving for 216 variables.\n",
      "Solving took 1.35 seconds.\n",
      "\n",
      "Cost\n",
      "----\n",
      " 0.1631 [1/day] \n",
      "\n",
      "Free Variables\n",
      "--------------\n",
      "                 AR : 27.87                                                       Aspect ratio                                       \n",
      "        A_{capcent} : 0.0001673                                       [m**2]      Cap area at center                                 \n",
      "         C_{D-fuse} : 0.002598                                                    fueslage drag                                      \n",
      "                  F : 2738                                            [N]         Load on wings                                      \n",
      "             LoverA : 4.144                                           [lbf/ft**2] Wing loading                                       \n",
      "             M_cent : 3235                                            [N*m]       Center bending moment                              \n",
      "            P_{cap} : 7.948e+04                                       [N]         Cap load                                           \n",
      "   P_{shaft-maxMSL} : 4.521                                           [hp]        Max shaft power at MSL                             \n",
      "                  S : 34.51                                           [ft**2]     wing area                                          \n",
      "           S_{fuse} : 12.34                                           [ft**2]     Fuselage surface area                              \n",
      "          Vol_{cap} : 0.0005272                                       [m**3]      Cap volume                                         \n",
      "         Vol_{fuel} : 0.05299                                         [m**3]      Fuel Volume                                        \n",
      "         Vol_{fuse} : 0.08484                                         [m**3]      fuselage volume                                    \n",
      "           W_{cent} : 123.1                                           [lbf]       Center aircraft weight                             \n",
      "        W_{eng-tot} : 11.47                                           [lbf]       Installed engine weight                            \n",
      "            W_{eng} : 5.062                                           [lbf]       engine weight                                      \n",
      "       W_{fuel-tot} : 84.12                                           [lbf]       total fuel weight                                  \n",
      "           W_{fuse} : 6.498                                           [lbf]       fuselage weight                                    \n",
      "           W_{wing} : 16.6                                            [lbf]       Total wing structural weight                       \n",
      "            W_{zfw} : 58.88                                           [lbf]       Zero fuel weight                                   \n",
      "       \\delta_{tip} : 6.202                                           [ft]        Tip deflection                                     \n",
      "                  b : 31.01                                           [ft]        Span                                               \n",
      "                  c : 1.113                                           [ft]        Wing chord                                         \n",
      "           h_{spar} : 0.0407                                          [m]         Spar height                                        \n",
      "           l_{cent} : 3.323                                           [ft]        center fuselage length                             \n",
      "           l_{fuse} : 4.12                                            [ft]        fuselage length                                    \n",
      "            m_{cap} : 0.9279                                          [kg]        Cap mass                                           \n",
      "           m_{fuse} : 1.147                                           [kg]        fuselage mass                                      \n",
      "           m_{skin} : 6.412                                           [kg]        Skin mass                                          \n",
      "        t_{station} : 6.133                                           [day]       time on station                                    \n",
      "            w_{cap} : 9.263                                           [in]        Spar cap width                                     \n",
      "           w_{cent} : 0.9495                                          [ft]        center fuselage width                              \n",
      "         \\vec{BSFC} : [ 0.521     0.616     0.521     0.585    ... ]  [lb/hp/hr]  brake specific fuel consumption                    \n",
      "          \\vec{C_D} : [ 0.0349    0.014     0.0324    0.0229   ... ]              Drag coefficient                                   \n",
      "          \\vec{C_L} : [ 1.04      0.444     0.976     0.742    ... ]              Lift coefficient                                   \n",
      "   \\vec{C_{f-fuse}} : [ 0.00652   0.00613   0.00661   0.00651  ... ]              Fuselage skin friction coefficient                 \n",
      "     \\vec{L_factor} : [ 0.188     0.188     0.518     0.518    ... ]              Max shaft power loss factor                        \n",
      "\\vec{P_{shaft-max}} : [ 3.67      3.66      2.18      2.17     ... ]  [hp]        Max shaft power at altitude                        \n",
      "\\vec{P_{shaft-tot}} : [ 3.63      1.35      2.16      0.93     ... ]  [hp]        total power need including power draw from avionics\n",
      "    \\vec{P_{shaft}} : [ 3.57      1.28      2.09      0.847    ... ]  [hp]        Shaft power                                        \n",
      "          \\vec{RPM} : [ 9e+03     6.41e+03  9e+03     6.75e+03 ... ]  [rpm]       Engine operating RPM                               \n",
      "    \\vec{Re_{fuse}} : [ 1.46e+06  2.21e+06  1.34e+06  1.48e+06 ... ]              fuselage Reynolds number                           \n",
      "           \\vec{Re} : [ 3.93e+05  5.97e+05  3.62e+05  4e+05    ... ]              Reynolds number                                    \n",
      "            \\vec{T} : [ 15.7      4.45      7.75      3.97     ... ]  [lbf]       Thrust                                             \n",
      "     \\vec{V_{wind}} : [ 25        17.5     ]                          [m/s]       wind speed                                         \n",
      "            \\vec{V} : [ 19        28.9      22.6      25       ... ]  [m/s]       cruise speed                                       \n",
      "      \\vec{W_{end}} : [ 142       140       138       120      ... ]  [lbf]       segment-end weight                                 \n",
      "     \\vec{W_{fuel}} : [ 0.565     2.74      1.93      17.5     ... ]  [lbf]       segment-fuel weight                                \n",
      "  \\vec{\\eta_{prop}} : [ 0.5       0.6       0.5       0.7      ... ]              propulsive efficiency                              \n",
      "          \\vec{\\mu} : [ 1.73e-05  1.73e-05  1.63e-05  1.63e-05 ... ]  [N*s/m**2]  Dynamic viscosity                                  \n",
      "       \\vec{c_{dp}} : [ 0.0106    0.00568   0.0103    0.00803  ... ]              wing profile drag coeff                            \n",
      "      \\vec{h_{dot}} : [ 285       100      ]                          [ft/min]    Climb rate                                         \n",
      "            \\vec{t} : [ 0.0122    0.134     0.0694    1.23     ... ]  [day]       time per flight segment                            \n",
      "      \\vec{z_{bre}} : [ 0.00388   0.019     0.0136    0.133    ... ]              breguet coefficient                                \n",
      "\n",
      "Constants\n",
      "---------\n",
      "        BSFC_{min} : 0.32                                            [kg/hr/kW]                    Minimum BSFC                          \n",
      "         C_{L-max} : 1.5                                                                           Maximum lift coefficient              \n",
      "           E_{cap} : 2e+07                                           [pound_force_per_square_inch] Youngs modulus of CF cap              \n",
      "       FuelOilFrac : 0.98                                                                          Fuel-oil fraction                     \n",
      "          K_{fuse} : 1.1                                                                           Fuselage form factor                  \n",
      "              MTOW : 143                                             [lbf]                         max take off weight                   \n",
      "           N_{Max} : 5                                                                             Load factor                           \n",
      "     P_{shaft-ref} : 2.295                                           [hp]                          reference shaft power                 \n",
      "                 R : 200                                             [nmi]                         range to station                      \n",
      "         RPM_{max} : 9000                                            [rpm]                         Maximum RPM                           \n",
      "        R_{cruise} : 180                                             [nmi]                         range to station during climb         \n",
      "          Re_{ref} : 3e+05                                                                         Reference Re for cdp                  \n",
      "    Vol_{avionics} : 0.125                                           [ft**3]                       avionics volume                       \n",
      "         Vol_{pay} : 1                                               [ft**3]                       payload volume                        \n",
      "      W_{avionics} : 8                                               [lbf]                         Avionics weight                       \n",
      "       W_{eng-ref} : 4.411                                           [lbf]                         Reference engine weight               \n",
      "           W_{pay} : 10                                              [lbf]                         Payload weight                        \n",
      "          W_{skid} : 3                                               [lbf]                         skid weight                           \n",
      "          \\delta_h : 1e+04                                           [ft]                          delta height                          \n",
      "  \\delta_{tip-max} : 0.2                                                                           max tip deflection ratio              \n",
      " \\eta_{prop-climb} : 0.5                                                                           propulsive efficiency in climb        \n",
      "\\eta_{prop-cruise} : 0.6                                                                           propulsive efficiency in cruise       \n",
      "\\eta_{prop-loiter} : 0.7                                                                           propulsive efficiency in loiter       \n",
      "          \\mu_{sl} : 1.789e-05                                       [N*s/m**2]                    Dynamic viscosity at sea level        \n",
      "        \\rho_{cap} : 1.76                                            [g/cm**3]                     Density of CF cap                     \n",
      "       \\rho_{fuel} : 6.01                                            [lbf/liquid_gallon]           density of 100LL                      \n",
      "       \\rho_{skin} : 0.1                                             [g/cm**2]                     Wing Skin Density                     \n",
      "      \\sigma_{cap} : 4.75e+08                                        [Pa]                          Cap stress                            \n",
      "              \\tau : 0.12                                                                          Airfoil thickness ratio               \n",
      "                 e : 0.9                                                                           Spanwise efficiency                   \n",
      "                fr : 3.5                                                                           fineness ratio fuselage               \n",
      "                 g : 9.81                                            [m/s**2]                      Gravitational acceleration            \n",
      "        h_{cruise} : 5000                                            [ft]                          minimum cruise altitude               \n",
      "       h_{dot-min} : 100                                             [ft/min]                      minimum necessary climb rate          \n",
      "           h_{ref} : 1.5e+04                                         [ft]                          ref altitude                          \n",
      "        k-{2-fuse} : 5.938                                                                         fuselage form factor 2                \n",
      "        k_{1-fuse} : 2.858                                                                         fuselage form factor 1                \n",
      "           m_{rib} : 1.8                                             [kg]                          rib mass                              \n",
      "          m_{tail} : 1.5                                             [kg]                          tail mass                             \n",
      "           t_{cap} : 0.028                                           [in]                          Spar cap thickness                    \n",
      "        t_{cruise} : 1                                               [day]                         time to station                       \n",
      "         wd_{cnst} : 0.001077                                        [m/ft/s]                      wind speed constant predicted by model\n",
      "           wd_{ln} : 8.845                                           [m/s]                         linear wind speed variable            \n",
      "     \\vec{P_{avn}} : [ 40        40        40        50       ... ]  [W]                           avionics power                        \n",
      "        \\vec{\\rho} : [ 1.06      1.06      0.771     0.771    ... ]  [Pa*kg/J]                     air density                           \n",
      "           \\vec{h} : [ 5e+03     5e+03     1.5e+04   1.5e+04  ... ]  [ft]                          altitude                              \n",
      "\n",
      "Sensitivities\n",
      "-------------\n",
      "                 g : 1.409                                           Gravitational acceleration            \n",
      "        BSFC_{min} : 1.068                                           Minimum BSFC                          \n",
      "         wd_{cnst} : 0.466                                           wind speed constant predicted by model\n",
      "           wd_{ln} : 0.2552                                          linear wind speed variable            \n",
      "       \\rho_{skin} : 0.2152                                          Wing Skin Density                     \n",
      "       h_{dot-min} : 0.1928                                          minimum necessary climb rate          \n",
      "        k-{2-fuse} : 0.183                                           fuselage form factor 2                \n",
      "      \\sigma_{cap} : 0.1777                                          Cap stress                            \n",
      "          \\mu_{sl} : 0.1764                                          Dynamic viscosity at sea level        \n",
      "          K_{fuse} : 0.1498                                          Fuselage form factor                  \n",
      "       W_{eng-ref} : 0.1388                                          Reference engine weight               \n",
      "          Re_{ref} : 0.1314                                          Reference Re for cdp                  \n",
      "           W_{pay} : 0.1312                                          Payload weight                        \n",
      "           \\vec{h} : [ 0.000303  -7.92e-05  0.507     0.0923   ... ] altitude                              \n",
      "      W_{avionics} : 0.105                                           Avionics weight                       \n",
      "           m_{rib} : 0.0521                                          rib mass                              \n",
      "          m_{tail} : 0.04257                                         tail mass                             \n",
      "          W_{skid} : 0.03937                                         skid weight                           \n",
      "         Vol_{pay} : 0.03572                                         payload volume                        \n",
      "                 R : 0.03304                                         range to station                      \n",
      "           N_{Max} : 0.0316                                          Load factor                           \n",
      "        \\rho_{cap} : 0.0316                                          Density of CF cap                     \n",
      "          \\delta_h : 0.01659                                         delta height                          \n",
      "        R_{cruise} : 0.01529                                         range to station during climb         \n",
      "     \\vec{P_{avn}} : [ 8.45e-05  0.000497  0.0166    0.0119   ... ]  avionics power                        \n",
      "        \\vec{\\rho} : [ -0.00077  0.00216   -0.195    -0.0263  ... ]  air density                           \n",
      "\\eta_{prop-cruise} : -0.02736                                        propulsive efficiency in cruise       \n",
      "        k_{1-fuse} : -0.04495                                        fuselage form factor 1                \n",
      "       \\rho_{fuel} : -0.06684                                        density of 100LL                      \n",
      "     P_{shaft-ref} : -0.1493                                         reference shaft power                 \n",
      "  \\delta_{tip-max} : -0.2093                                         max tip deflection ratio              \n",
      "           E_{cap} : -0.2093                                         Youngs modulus of CF cap              \n",
      "              \\tau : -0.2409                                         Airfoil thickness ratio               \n",
      "                 e : -0.3224                                         Spanwise efficiency                   \n",
      "           h_{ref} : -0.5019                                         ref altitude                          \n",
      " \\eta_{prop-climb} : -0.5216                                         propulsive efficiency in climb        \n",
      "\\eta_{prop-loiter} : -0.5739                                         propulsive efficiency in loiter       \n",
      "              MTOW : -0.6322                                         max take off weight                   \n",
      "       FuelOilFrac : -0.992                                          Fuel-oil fraction                     \n",
      "\n"
     ]
    }
   ],
   "source": [
    "class GasPoweredHALE(Model):\n",
    "    def __init__(self, **kwargs):\n",
    "        \n",
    "        # create instances of all models\n",
    "        altitude = Altitude()\n",
    "        atmosphere = Atmosphere()\n",
    "        fuelweight = FuelWeight()\n",
    "        steadylevelflight = SteadyLevelFlight()\n",
    "        engine = Engine()\n",
    "        breguetrange = BreguetRange()\n",
    "        aerodynamic = Aerodynamic()\n",
    "        weight = Weight()\n",
    "        structures = Structures()\n",
    "        fuselage = Fuselage()\n",
    "        wind = Wind()\n",
    "        self.submodels = [altitude, atmosphere, fuelweight, steadylevelflight, engine,\n",
    "                          breguetrange, aerodynamic, weight, structures, fuselage, wind]\n",
    "        \n",
    "        constraints = []\n",
    "        \n",
    "        lc = LinkedConstraintSet([self.submodels, constraints])\n",
    "        \n",
    "        objective = 1/t_station\n",
    "        Model.__init__(self, objective, lc, **kwargs)\n",
    "\n",
    "if __name__ == '__main__':\n",
    "    M = GasPoweredHALE()\n",
    "    sol = M.solve('cvxopt')"
   ]
  },
  {
   "cell_type": "code",
   "execution_count": null,
   "metadata": {
    "collapsed": true
   },
   "outputs": [],
   "source": []
  }
 ],
 "metadata": {
  "kernelspec": {
   "display_name": "Python 2",
   "language": "python",
   "name": "python2"
  },
  "language_info": {
   "codemirror_mode": {
    "name": "ipython",
    "version": 2
   },
   "file_extension": ".py",
   "mimetype": "text/x-python",
   "name": "python",
   "nbconvert_exporter": "python",
   "pygments_lexer": "ipython2",
   "version": "2.7.10"
  }
 },
 "nbformat": 4,
 "nbformat_minor": 0
}
