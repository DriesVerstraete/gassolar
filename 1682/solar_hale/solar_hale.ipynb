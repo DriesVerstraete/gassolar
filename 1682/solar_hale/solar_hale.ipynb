{
 "cells": [
  {
   "cell_type": "markdown",
   "metadata": {},
   "source": [
    "# SOLAR HIGH ALTITUDE LONG ENDURANCE AIRCRAFT"
   ]
  },
  {
   "cell_type": "markdown",
   "metadata": {},
   "source": [
    "Import necessary modules"
   ]
  },
  {
   "cell_type": "code",
   "execution_count": null,
   "metadata": {
    "collapsed": true
   },
   "outputs": [],
   "source": [
    "from gpkit import Variable, Model, units\n",
    "from gpkit.constraints.set import ConstraintSet\n",
    "from gpkit import LinkedConstraintSet\n",
    "import numpy as np\n",
    "import matplotlib.pyplot as plt"
   ]
  },
  {
   "cell_type": "markdown",
   "metadata": {},
   "source": [
    "## Define System Level Variables"
   ]
  },
  {
   "cell_type": "code",
   "execution_count": null,
   "metadata": {
    "collapsed": true
   },
   "outputs": [],
   "source": [
    "CD = Variable('C_D', '-', 'Drag coefficient')\n",
    "CL = Variable('C_L', '-', 'Lift coefficient')\n",
    "P_shaft = Variable('P_{shaft}', 'W', 'Shaft power')\n",
    "S = Variable('S', 'm^2', 'Wing reference area')\n",
    "V = Variable('V', 'm/s', 'Cruise velocity')\n",
    "W = Variable('W', 'lbf', 'Aircraft weight')\n",
    "rho = Variable(r'\\rho', 'kg/m^3')\n",
    "E_batt = Variable('E_{batt}', 'J', 'Battery energy')\n",
    "h = Variable(\"h\", \"ft\", \"Altitude\")\n",
    "g = Variable('g', 9.81, 'm/s^2', 'Gravitational acceleration')"
   ]
  },
  {
   "cell_type": "markdown",
   "metadata": {},
   "source": [
    "## Steady Level Flight\n",
    "\n",
    "We are assuming steady level flight. Specifically, the required lift is equal to the weight and the shaft power produced by the engine has to be greater than the flight power. "
   ]
  },
  {
   "cell_type": "code",
   "execution_count": null,
   "metadata": {
    "collapsed": true
   },
   "outputs": [],
   "source": [
    "class SteadyLevelFlight(Model):\n",
    "    def __init__(self, **kwargs):\n",
    "        eta_prop = Variable(r'\\eta_{prop}', 0.7, '-', 'Propulsive efficiency')\n",
    "\n",
    "        constraints = [P_shaft >= V*W*CD/CL/eta_prop,   # eta*P = D*V\n",
    "                       W == 0.5*rho*V**2*CL*S]\n",
    "        Model.__init__(self, None, constraints, **kwargs)"
   ]
  },
  {
   "cell_type": "markdown",
   "metadata": {},
   "source": [
    "## Aerodynamics \n",
    "\n",
    "We assumed that it the drag was combination of non-lifting drag, wing profile drag, and induced drag."
   ]
  },
  {
   "cell_type": "code",
   "execution_count": null,
   "metadata": {
    "collapsed": true
   },
   "outputs": [],
   "source": [
    "class Aero(Model):\n",
    "    def __init__(self, **kwargs):\n",
    "\n",
    "        Cd0 = Variable('C_{d0}', 0.002, '-', \"non-wing drag coefficient\")\n",
    "        cdp = Variable(\"c_{dp}\", \"-\", \"wing profile drag coeff\")\n",
    "        CLmax = Variable('C_{L-max}', 1.5, '-', 'maximum lift coefficient')\n",
    "        e = Variable('e', 0.9, '-', \"spanwise efficiency\")\n",
    "        AR = Variable('AR', 27, '-', \"aspect ratio\")\n",
    "        b = Variable('b', 'ft', 'span')\n",
    "        mu = Variable(r'\\mu', 1.5e-5, 'N*s/m^2', \"dynamic viscosity\")\n",
    "        Re = Variable(\"Re\", '-', \"Reynolds number\")\n",
    "        Re_ref = Variable(\"Re_{ref}\", 3e5, \"-\", \"Reference Re for cdp\")\n",
    "        Cf = Variable(\"C_f\", \"-\", \"wing skin friction coefficient\")\n",
    "\n",
    "        constraints = [\n",
    "            CD >= Cd0 + cdp + CL**2/(np.pi*e*AR),\n",
    "            cdp >= ((0.006 + 0.005*CL**2 + 0.00012*CL**10)*(Re/Re_ref)**-0.3),\n",
    "            b**2 == S*AR,\n",
    "            CL <= CLmax,\n",
    "            Re == rho*V/mu*(S/AR)**0.5,\n",
    "            ]\n",
    "        Model.__init__(self, None, constraints, **kwargs)"
   ]
  },
  {
   "cell_type": "markdown",
   "metadata": {},
   "source": [
    "## Weights\n",
    "\n",
    "We assumed that the weight of the airframe, which includes the spar, wing, engines, and fuselage structural weight, is a percentage of the weight of the aircraft. The energy battery density is based on the best available lithium ion batteries. The avionics weight is based on required avionics for flight control, ground communication, and satellite communication."
   ]
  },
  {
   "cell_type": "code",
   "execution_count": null,
   "metadata": {
    "collapsed": true
   },
   "outputs": [],
   "source": [
    "class Weight(Model):\n",
    "    def __init__(self, **kwargs):\n",
    "\n",
    "        W_batt = Variable('W_{batt}', 'lbf', 'Battery weight')\n",
    "        W_airframe = Variable('W_{airframe}', 'lbf', 'Airframe weight')\n",
    "        W_solar = Variable('W_{solar}', 'lbf', 'Solar panel weight')\n",
    "        W_pay = Variable('W_{pay}', 4, 'lbf', 'Aircraft weight')\n",
    "        W_avionics = Variable('W_{avionics}', 4, 'lbf', 'avionics weight')\n",
    "        rho_solar = Variable(r'\\rho_{solar}', 1.2, 'kg/m^2',\n",
    "                             'Solar cell area density')\n",
    "        f_airframe = Variable('f_{airframe}', 0.20, '-',\n",
    "                              'Airframe weight fraction')\n",
    "        h_batt = Variable('h_{batt}', 250, 'W*hr/kg', 'Battery energy density')\n",
    "\n",
    "        constraints = [W_airframe >= W*f_airframe,\n",
    "                       W_batt >= E_batt/h_batt*g,\n",
    "                       W_solar >= rho_solar*g*S,\n",
    "                       W >= W_pay + W_solar + W_airframe + W_batt + W_avionics]\n",
    "        Model.__init__(self, None, constraints, **kwargs)"
   ]
  },
  {
   "cell_type": "markdown",
   "metadata": {},
   "source": [
    "## Power \n",
    "\n",
    "The value assumed for the average daytime solar irradiance, was based on standard solar irradiance values.   The accessory power draw is based on the approximate power usage from the avionics (15 Watts) and payload (10 Watts).  The night span is 8 hours and is based on the worst case scenario for the 45 degree latitude at the winter solstice, assuming that if it can flight for the longest night of the year on the power charged during the day then it theoretically flight all year long.  The incidence angle is included in this calculation as the $\\cos{\\theta}$, where $\\theta$ is the incidence angle, because the cosine function is not a convex function.  The solar cell efficiency was assumed to be \\%20.  \n"
   ]
  },
  {
   "cell_type": "code",
   "execution_count": null,
   "metadata": {
    "collapsed": true
   },
   "outputs": [],
   "source": [
    "class Power(Model):\n",
    "    def __init__(self, **kwargs):\n",
    "\n",
    "        PS_irr = Variable('(P/S)_{irr}', 1000*0.5, 'W/m^2',\n",
    "                          'Average daytime solar irradiance')\n",
    "        P_oper = Variable('P_{oper}', 'W', 'Aircraft operating power')\n",
    "        P_charge = Variable('P_{charge}', 'W', 'Battery charging power')\n",
    "        P_acc = Variable('P_{acc}', 25, 'W', 'Accessory power draw')\n",
    "        eta_solar = Variable(r'\\eta_{solar}', 0.2, '-',\n",
    "                             'Solar cell efficiency')\n",
    "        eta_charge = Variable(r'\\eta_{charge}', 0.95, '-',\n",
    "                              'Battery charging efficiency')\n",
    "        eta_discharge = Variable(r'\\eta_{discharge}', 0.95, '-',\n",
    "                                 'Battery discharging efficiency')\n",
    "        t_day = Variable('t_{day}', 'hr', 'Daylight span')\n",
    "        t_night = Variable('t_{night}', 16, 'hr', 'Night span')\n",
    "        th = Variable(r'\\theta', 0.35, '-', \n",
    "                      'cosine of incidence angle at 45 lat')\n",
    "\n",
    "        constraints = [PS_irr*eta_solar*S >= P_oper + P_charge,\n",
    "                       P_oper >= P_shaft + P_acc,\n",
    "                       P_charge >= E_batt/(t_day*eta_charge*th),\n",
    "                       t_day + t_night <= 24*units.hr,\n",
    "                       E_batt >= P_oper*t_night/eta_discharge]\n",
    "        Model.__init__(self, None, constraints, **kwargs)"
   ]
  },
  {
   "cell_type": "markdown",
   "metadata": {},
   "source": [
    "## Atmosphere \n",
    "\n",
    "The basic assumption here is that temperature, air density and pressure vary with altitude. "
   ]
  },
  {
   "cell_type": "code",
   "execution_count": null,
   "metadata": {
    "collapsed": true
   },
   "outputs": [],
   "source": [
    "class Atmosphere(Model):\n",
    "    def __init__(self, **kwargs):\n",
    "\n",
    "        p_sl = Variable(\"p_{sl}\", 101325, \"Pa\", \"Pressure at sea level\")\n",
    "        T_sl = Variable(\"T_{sl}\", 288.15, \"K\", \"Temperature at sea level\")\n",
    "        L_atm = Variable(\"L_{atm}\", 0.0065, \"K/m\", \"Temperature lapse rate\")\n",
    "        T_atm = Variable(\"T_{atm}\", \"K\", \"air temperature\")\n",
    "        M_atm = Variable(\"M_{atm}\", 0.0289644, \"kg/mol\",\n",
    "                         \"Molar mass of dry air\")\n",
    "        R_atm = Variable(\"R_{atm}\", 8.31447, \"J/mol/K\", \"air specific heating value\")\n",
    "        TH = (g*M_atm/R_atm/L_atm).value\n",
    "\n",
    "        constraints = [\n",
    "            #h <= 20000*units.m,  # Model valid to top of troposphere\n",
    "            T_sl >= T_atm + L_atm*h,     # Temp decreases w/ altitude\n",
    "            # http://en.wikipedia.org/wiki/Density_of_air#Altitude\n",
    "            rho <= p_sl*T_atm**(TH-1)*M_atm/R_atm/(T_sl**TH)]\n",
    "        Model.__init__(self, None, constraints, **kwargs)"
   ]
  },
  {
   "cell_type": "markdown",
   "metadata": {},
   "source": [
    "## Station Keeping Requirements\n",
    "\n",
    "The minimum altitude needs to be 15,000 ft in order to reach the station keeping requirement of a 100 km diameter footprint.  In order to clear air traffic the minimum altitude needs to be at least 70,000 ft.  Graph below shows the wind distributions required to station keep at both 15,000 ft and 70,000 ft. \n"
   ]
  },
  {
   "cell_type": "code",
   "execution_count": null,
   "metadata": {
    "collapsed": true
   },
   "outputs": [],
   "source": [
    "class StationKeeping(Model):\n",
    "    def __init__(self, **kwargs):\n",
    "        \n",
    "        h_min = Variable('h_{min}', 15000, 'ft', 'minimum altitude')\n",
    "        V_wind = Variable('V_{wind}', 10, 'm/s', 'wind speed')\n",
    "        \n",
    "        constraints = [h >= h_min,\n",
    "                       V >= V_wind]\n",
    "        Model.__init__(self, None, constraints, **kwargs)"
   ]
  },
  {
   "cell_type": "markdown",
   "metadata": {},
   "source": [
    "## Overall sizing model"
   ]
  },
  {
   "cell_type": "code",
   "execution_count": null,
   "metadata": {
    "collapsed": false,
    "scrolled": true
   },
   "outputs": [],
   "source": [
    "class SolarHALE(Model):\n",
    "    \"\"\"High altitude long endurance solar UAV\"\"\"\n",
    "    def __init__(self, **kwargs):\n",
    "        \"\"\"Setup method should return objective, list of constraints\"\"\"\n",
    "\n",
    "        slf = SteadyLevelFlight()\n",
    "        power = Power()\n",
    "        weight = Weight()\n",
    "        sk = StationKeeping()\n",
    "        aero = Aero()\n",
    "        atmosphere = Atmosphere()\n",
    "        self.submodels = [slf, power, weight, sk, aero, atmosphere] \n",
    "\n",
    "        constraints = []\n",
    "        lc = LinkedConstraintSet([self.submodels, constraints])\n",
    "\n",
    "        objective = W\n",
    "\n",
    "        Model.__init__(self, objective, lc, **kwargs)\n",
    "\n",
    "if __name__ == \"__main__\":\n",
    "    M = SolarHALE()\n",
    "    sol = M.solve(\"mosek\")"
   ]
  },
  {
   "cell_type": "code",
   "execution_count": null,
   "metadata": {
    "collapsed": false
   },
   "outputs": [],
   "source": [
    "M.solve(\"mosek\")"
   ]
  },
  {
   "cell_type": "code",
   "execution_count": null,
   "metadata": {
    "collapsed": false
   },
   "outputs": [],
   "source": []
  },
  {
   "cell_type": "code",
   "execution_count": null,
   "metadata": {
    "collapsed": true
   },
   "outputs": [],
   "source": [
    "import numpy as np\n",
    "M.substitutions.update({\"h\": ('sweep', np.linspace(15000, 50000, 4)),\n",
    "                        \"V_{wind}\": ('sweep', np.linspace(10, 30, 5))})\n",
    "sol = M.solve(solver=\"mosek\", verbosity=0, skipsweepfailures=True)"
   ]
  },
  {
   "cell_type": "code",
   "execution_count": null,
   "metadata": {
    "collapsed": false
   },
   "outputs": [],
   "source": [
    "%matplotlib inline\n",
    "from gpkit.interactive.plotting import contour_array\n",
    "_ = contour_array(M, \"V_{wind}\", \"h\", [\"MTOW\", \"b\"])"
   ]
  },
  {
   "cell_type": "code",
   "execution_count": null,
   "metadata": {
    "collapsed": true
   },
   "outputs": [],
   "source": []
  }
 ],
 "metadata": {
  "kernelspec": {
   "display_name": "Python 2",
   "language": "python",
   "name": "python2"
  },
  "language_info": {
   "codemirror_mode": {
    "name": "ipython",
    "version": 2
   },
   "file_extension": ".py",
   "mimetype": "text/x-python",
   "name": "python",
   "nbconvert_exporter": "python",
   "pygments_lexer": "ipython2",
   "version": "2.7.10"
  }
 },
 "nbformat": 4,
 "nbformat_minor": 0
}
